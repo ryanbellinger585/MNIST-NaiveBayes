{
  "nbformat": 4,
  "nbformat_minor": 0,
  "metadata": {
    "colab": {
      "name": "455 project 1",
      "provenance": []
    },
    "kernelspec": {
      "name": "python3",
      "display_name": "Python 3"
    },
    "language_info": {
      "name": "python"
    }
  },
  "cells": [
    {
      "cell_type": "markdown",
      "source": [
        "To run this code, each of the appropriate training and testing datasets must be loaded into the colab directory. Skips the first 16 (mostly) empty bytes, then reads data into np array."
      ],
      "metadata": {
        "id": "bi7wo6v9vJOi"
      }
    },
    {
      "cell_type": "code",
      "source": [
        "import gzip\n",
        "import numpy as np\n",
        "trainX = gzip.open('/content/train-images-idx3-ubyte.gz', 'r')\n",
        "image_size = 28\n",
        "\n",
        "import numpy as np\n",
        "trainX.read(16)\n",
        "buf = trainX.read()\n",
        "data = np.frombuffer(buf, dtype=np.uint8).astype(np.float32)\n",
        "data = data.reshape(60000, image_size, image_size)\n",
        "print(data.shape)"
      ],
      "metadata": {
        "colab": {
          "base_uri": "https://localhost:8080/"
        },
        "id": "rzXHl_JVfFZZ",
        "outputId": "9b300483-db96-40dc-e03f-a2bd59d8a56c"
      },
      "execution_count": 1,
      "outputs": [
        {
          "output_type": "stream",
          "name": "stdout",
          "text": [
            "(60000, 28, 28)\n"
          ]
        }
      ]
    },
    {
      "cell_type": "markdown",
      "source": [
        "Skips the first 8 useless bytes in labels dataset, then reads label data into np array"
      ],
      "metadata": {
        "id": "7BXO0WGJve_d"
      }
    },
    {
      "cell_type": "code",
      "source": [
        "f = gzip.open('/content/train-labels-idx1-ubyte.gz','r')\n",
        "f.read(8) \n",
        "buf = f.read(60000)\n",
        "labels = np.frombuffer(buf, dtype=np.uint8).astype(np.int64)\n",
        "print(labels.shape)"
      ],
      "metadata": {
        "colab": {
          "base_uri": "https://localhost:8080/"
        },
        "id": "mVtMnUmongkG",
        "outputId": "bbe5ea96-cb51-42a6-b6b7-d09149f31f18"
      },
      "execution_count": 2,
      "outputs": [
        {
          "output_type": "stream",
          "name": "stdout",
          "text": [
            "(60000,)\n"
          ]
        }
      ]
    },
    {
      "cell_type": "markdown",
      "source": [
        "Ascertains how many of each label is in dataset. Declares empty n * 28 * 28 array for each label, then reads the appropriate 28*28 images into each dataset."
      ],
      "metadata": {
        "id": "UM-I-Sozv9Mr"
      }
    },
    {
      "cell_type": "code",
      "source": [
        "zeroCount = 0\n",
        "for i in range(0,60000):\n",
        "  if labels[i] == 0:\n",
        "    zeroCount += 1\n",
        "zeros = np.zeros((zeroCount,28,28))\n",
        "zeroI = 0\n",
        "oneCount = 0\n",
        "for i in range(0,60000):\n",
        "  if labels[i] == 1:\n",
        "    oneCount += 1\n",
        "ones = np.zeros((oneCount,28,28))\n",
        "twoCount = 0\n",
        "for i in range(0,60000):\n",
        "  if labels[i] == 2:\n",
        "    twoCount += 1\n",
        "twos = np.zeros((twoCount,28,28))\n",
        "threeCount = 0\n",
        "for i in range(0,60000):\n",
        "  if labels[i] == 3:\n",
        "    threeCount += 1\n",
        "threes = np.zeros((threeCount,28,28))\n",
        "fourCount = 0\n",
        "for i in range(0,60000):\n",
        "  if labels[i] == 4:\n",
        "    fourCount += 1\n",
        "fours = np.zeros((fourCount,28,28))\n",
        "fiveCount = 0\n",
        "for i in range(0,60000):\n",
        "  if labels[i] == 5:\n",
        "    fiveCount += 1\n",
        "fives = np.zeros((fiveCount,28,28))\n",
        "sixCount = 0\n",
        "for i in range(0,60000):\n",
        "  if labels[i] == 6:\n",
        "    sixCount += 1\n",
        "sixes = np.zeros((sixCount,28,28))\n",
        "sevenCount = 0\n",
        "for i in range(0,60000):\n",
        "  if labels[i] == 7:\n",
        "    sevenCount += 1\n",
        "sevens = np.zeros((sevenCount,28,28))\n",
        "eightCount = 0\n",
        "for i in range(0,60000):\n",
        "  if labels[i] == 8:\n",
        "    eightCount += 1\n",
        "eights = np.zeros((eightCount,28,28))\n",
        "nineCount = 0\n",
        "for i in range(0,60000):\n",
        "  if labels[i] == 9:\n",
        "    nineCount += 1\n",
        "nines = np.zeros((nineCount,28,28))\n",
        "zeroI = 0\n",
        "nineI = 0\n",
        "eightI = 0\n",
        "sevenI = 0\n",
        "sixI = 0\n",
        "fiveI = 0\n",
        "threeI = 0\n",
        "fourI = 0\n",
        "twoI = 0\n",
        "oneI = 0\n",
        "for i in range(0,60000):\n",
        "  if labels[i] == 0:\n",
        "    zeros[zeroI] = data[i]\n",
        "    zeroI+=1\n",
        "  if labels[i] == 1:\n",
        "    ones[oneI] = data[i]\n",
        "    oneI+=1\n",
        "  if labels[i] == 2:\n",
        "    twos[twoI] = data[i]\n",
        "    twoI+=1\n",
        "  if labels[i] == 3:\n",
        "    threes[threeI] = data[i]\n",
        "    threeI+=1\n",
        "  if labels[i] == 4:\n",
        "    fours[fourI] = data[i]\n",
        "    fourI+=1\n",
        "  if labels[i] == 5:\n",
        "    fives[fiveI] = data[i]\n",
        "    fiveI+=1\n",
        "  if labels[i] == 6:\n",
        "    sixes[sixI] = data[i]\n",
        "    sixI+=1\n",
        "  if labels[i] == 7:\n",
        "    sevens[zeroI] = data[i]\n",
        "    sevenI+=1\n",
        "  if labels[i] == 8:\n",
        "    eights[eightI] = data[i]\n",
        "    eightI+=1\n",
        "  if labels[i] == 9:\n",
        "    nines[nineI] = data[i]\n",
        "    nineI+=1\n"
      ],
      "metadata": {
        "id": "RlrESEAjrGWS"
      },
      "execution_count": 3,
      "outputs": []
    },
    {
      "cell_type": "markdown",
      "source": [
        "Calculates mean for each pixel position and standard deviation for each pixel for each label."
      ],
      "metadata": {
        "id": "ACmAgDUzwWT0"
      }
    },
    {
      "cell_type": "code",
      "source": [
        "print(zeros.shape)\n",
        "meanZero = np.mean(zeros, axis = 0)\n",
        "stdZero = np.std(zeros, axis = 0)\n",
        "meanOnes = np.mean(ones, axis = 0)\n",
        "stdOnes = np.std(ones, axis = 0)\n",
        "meanTwo = np.mean(twos, axis = 0)\n",
        "stdTwo = np.std(twos, axis = 0)\n",
        "meanThree = np.mean(threes, axis = 0)\n",
        "stdThree = np.std(threes, axis = 0)\n",
        "meanFour = np.mean(fours, axis = 0)\n",
        "stdFour = np.std(fours, axis = 0)\n",
        "meanFive = np.mean(fives, axis = 0)\n",
        "stdFive = np.std(fives, axis = 0)\n",
        "meanSix = np.mean(sixes, axis = 0)\n",
        "stdSix = np.std(sixes, axis = 0)\n",
        "meanSeven = np.mean(sevens, axis = 0)\n",
        "stdSeven = np.std(sevens, axis = 0)\n",
        "meanEight = np.mean(eights, axis = 0)\n",
        "stdEight = np.std(eights, axis = 0)\n",
        "meanNine = np.mean(nines, axis = 0)\n",
        "stdNine = np.std(nines, axis = 0)\n",
        "means = [meanZero, meanOnes, meanTwo, meanThree, meanFour, meanFive, meanSix, meanSeven, meanEight, meanNine]\n",
        "stds = [stdZero,stdOnes, stdTwo, stdThree, stdFour, stdFive, stdSix, stdSeven, stdEight, stdNine]"
      ],
      "metadata": {
        "colab": {
          "base_uri": "https://localhost:8080/"
        },
        "id": "npZ89Eqq344Q",
        "outputId": "837db8c0-7a48-4c38-bef1-9e682860fded"
      },
      "execution_count": 4,
      "outputs": [
        {
          "output_type": "stream",
          "name": "stdout",
          "text": [
            "(5923, 28, 28)\n"
          ]
        }
      ]
    },
    {
      "cell_type": "markdown",
      "source": [
        "Plots each 28*28 avg array using grayscale"
      ],
      "metadata": {
        "id": "acR_DbdOwpMD"
      }
    },
    {
      "cell_type": "code",
      "source": [
        "from matplotlib.pyplot import imshow, figure, xlabel, ylabel\n",
        "for i in means:\n",
        "  imshow(i)\n",
        "  figure()"
      ],
      "metadata": {
        "colab": {
          "base_uri": "https://localhost:8080/",
          "height": 1000
        },
        "id": "P4rtHQzg5sQj",
        "outputId": "75a0299b-eb33-4759-9a87-a43e8a343b58"
      },
      "execution_count": 5,
      "outputs": [
        {
          "output_type": "display_data",
          "data": {
            "image/png": "[encoded data removed]",
            "text/plain": [
              "<Figure size 432x288 with 1 Axes>"
            ]
          },
          "metadata": {
            "needs_background": "light"
          }
        },
        {
          "output_type": "display_data",
          "data": {
            "image/png": "[encoded data removed]",
            "text/plain": [
              "<Figure size 432x288 with 1 Axes>"
            ]
          },
          "metadata": {
            "needs_background": "light"
          }
        },
        {
          "output_type": "display_data",
          "data": {
            "image/png": "[encoded data removed]",
            "text/plain": [
              "<Figure size 432x288 with 1 Axes>"
            ]
          },
          "metadata": {
            "needs_background": "light"
          }
        },
        {
          "output_type": "display_data",
          "data": {
            "image/png": "[encoded data removed]",
            "text/plain": [
              "<Figure size 432x288 with 1 Axes>"
            ]
          },
          "metadata": {
            "needs_background": "light"
          }
        },
        {
          "output_type": "display_data",
          "data": {
            "image/png": "[encoded data removed]",
            "text/plain": [
              "<Figure size 432x288 with 1 Axes>"
            ]
          },
          "metadata": {
            "needs_background": "light"
          }
        },
        {
          "output_type": "display_data",
          "data": {
            "image/png": "[encoded data removed]",
            "text/plain": [
              "<Figure size 432x288 with 1 Axes>"
            ]
          },
          "metadata": {
            "needs_background": "light"
          }
        },
        {
          "output_type": "display_data",
          "data": {
            "image/png": "[encoded data removed]",
            "text/plain": [
              "<Figure size 432x288 with 1 Axes>"
            ]
          },
          "metadata": {
            "needs_background": "light"
          }
        },
        {
          "output_type": "display_data",
          "data": {
            "image/png": "[encoded data removed]",
            "text/plain": [
              "<Figure size 432x288 with 1 Axes>"
            ]
          },
          "metadata": {
            "needs_background": "light"
          }
        },
        {
          "output_type": "display_data",
          "data": {
            "image/png": "[encoded data removed]",
            "text/plain": [
              "<Figure size 432x288 with 1 Axes>"
            ]
          },
          "metadata": {
            "needs_background": "light"
          }
        },
        {
          "output_type": "display_data",
          "data": {
            "image/png": "[encoded data removed]",
            "text/plain": [
              "<Figure size 432x288 with 1 Axes>"
            ]
          },
          "metadata": {
            "needs_background": "light"
          }
        },
        {
          "output_type": "display_data",
          "data": {
            "text/plain": [
              "<Figure size 432x288 with 0 Axes>"
            ]
          },
          "metadata": {}
        }
      ]
    },
    {
      "cell_type": "markdown",
      "source": [
        "Plots each 28*28 std array using grayscale"
      ],
      "metadata": {
        "id": "JX7oNBC-wyi1"
      }
    },
    {
      "cell_type": "code",
      "source": [
        "for j in stds:\n",
        "  imshow(j)\n",
        "  figure()"
      ],
      "metadata": {
        "colab": {
          "base_uri": "https://localhost:8080/",
          "height": 1000
        },
        "id": "LCtx7FAE8PNB",
        "outputId": "df2c16a5-f8b0-424e-ac86-a3ca24bd33c8"
      },
      "execution_count": 6,
      "outputs": [
        {
          "output_type": "display_data",
          "data": {
            "image/png": "[encoded data removed]",
            "text/plain": [
              "<Figure size 432x288 with 1 Axes>"
            ]
          },
          "metadata": {
            "needs_background": "light"
          }
        },
        {
          "output_type": "display_data",
          "data": {
            "image/png": "[encoded data removed]",
            "text/plain": [
              "<Figure size 432x288 with 1 Axes>"
            ]
          },
          "metadata": {
            "needs_background": "light"
          }
        },
        {
          "output_type": "display_data",
          "data": {
            "image/png": "[encoded data removed]",
            "text/plain": [
              "<Figure size 432x288 with 1 Axes>"
            ]
          },
          "metadata": {
            "needs_background": "light"
          }
        },
        {
          "output_type": "display_data",
          "data": {
            "image/png": "[encoded data removed]",
            "text/plain": [
              "<Figure size 432x288 with 1 Axes>"
            ]
          },
          "metadata": {
            "needs_background": "light"
          }
        },
        {
          "output_type": "display_data",
          "data": {
            "image/png": "[encoded data removed]",
            "text/plain": [
              "<Figure size 432x288 with 1 Axes>"
            ]
          },
          "metadata": {
            "needs_background": "light"
          }
        },
        {
          "output_type": "display_data",
          "data": {
            "image/png": "[encoded data removed]",
            "text/plain": [
              "<Figure size 432x288 with 1 Axes>"
            ]
          },
          "metadata": {
            "needs_background": "light"
          }
        },
        {
          "output_type": "display_data",
          "data": {
            "image/png": "[encoded data removed]",
            "text/plain": [
              "<Figure size 432x288 with 1 Axes>"
            ]
          },
          "metadata": {
            "needs_background": "light"
          }
        },
        {
          "output_type": "display_data",
          "data": {
            "image/png": "[encoded data removed]",
            "text/plain": [
              "<Figure size 432x288 with 1 Axes>"
            ]
          },
          "metadata": {
            "needs_background": "light"
          }
        },
        {
          "output_type": "display_data",
          "data": {
            "image/png": "[encoded data removed]",
            "text/plain": [
              "<Figure size 432x288 with 1 Axes>"
            ]
          },
          "metadata": {
            "needs_background": "light"
          }
        },
        {
          "output_type": "display_data",
          "data": {
            "image/png": "[encoded data removed]",
            "text/plain": [
              "<Figure size 432x288 with 1 Axes>"
            ]
          },
          "metadata": {
            "needs_background": "light"
          }
        },
        {
          "output_type": "display_data",
          "data": {
            "text/plain": [
              "<Figure size 432x288 with 0 Axes>"
            ]
          },
          "metadata": {}
        }
      ]
    },
    {
      "cell_type": "markdown",
      "source": [
        "sets the Random seed to get consistent samples for discriminant function training"
      ],
      "metadata": {
        "id": "rHorqbefw5kH"
      }
    },
    {
      "cell_type": "code",
      "source": [
        "from math import log\n",
        "import random\n",
        "random.seed(585)"
      ],
      "metadata": {
        "id": "8csYxFpW8Y14"
      },
      "execution_count": 7,
      "outputs": []
    },
    {
      "cell_type": "markdown",
      "source": [
        "Takes the means of across digits excluding one digit at a time"
      ],
      "metadata": {
        "id": "B7R0_nXXxFaB"
      }
    },
    {
      "cell_type": "code",
      "source": [
        "means = np.array(means)\n",
        "noZero = np.delete(means, 0, axis = 0)\n",
        "nonMeanZero = np.mean(noZero, axis = 0)\n",
        "noOne = np.delete(means, 1, axis = 0)\n",
        "nonMeanOne = np.mean(noOne, axis = 0)\n",
        "noTwo = np.delete(means, 2, axis = 0)\n",
        "nonMeanTwo = np.mean(noTwo, axis = 0)\n",
        "noThree = np.delete(means, 3, axis = 0)\n",
        "nonMeanThree = np.mean(noThree, axis = 0)\n",
        "noFour = np.delete(means, 4, axis = 0)\n",
        "nonMeanFour = np.mean(noFour, axis = 0)\n",
        "noFive = np.delete(means, 5, axis = 0)\n",
        "nonMeanFive = np.mean(noFive, axis = 0)\n",
        "noSix = np.delete(means, 6, axis = 0)\n",
        "nonMeanSix = np.mean(noSix, axis = 0)\n",
        "noSeven = np.delete(means, 7, axis = 0)\n",
        "nonMeanSeven = np.mean(noSeven, axis = 0)\n",
        "noEight = np.delete(means, 8, axis = 0)\n",
        "nonMeanEight = np.mean(noEight, axis = 0)\n",
        "noNine = np.delete(means, 9, axis = 0)\n",
        "nonMeanNine = np.mean(noNine, axis = 0)"
      ],
      "metadata": {
        "id": "mTWa7jJ3RUnE"
      },
      "execution_count": 8,
      "outputs": []
    },
    {
      "cell_type": "markdown",
      "source": [
        "Imports testing data the same way training data was imported."
      ],
      "metadata": {
        "id": "_9EAqtOgxxvE"
      }
    },
    {
      "cell_type": "code",
      "source": [
        "testX = gzip.open('/content/t10k-images-idx3-ubyte.gz', 'r')\n",
        "image_size = 28\n",
        "\n",
        "testX.read(16)\n",
        "bufftest = testX.read()\n",
        "testdata = np.frombuffer(bufftest, dtype=np.uint8).astype(np.float32)\n",
        "testdata = testdata.reshape(10000, image_size, image_size)\n",
        "print(testdata.shape)\n",
        "f = gzip.open('/content/t10k-labels-idx1-ubyte.gz','r')\n",
        "f.read(8) \n",
        "buftest = f.read(10000)\n",
        "testlabels = np.frombuffer(buftest, dtype=np.uint8).astype(np.int64)\n",
        "print(testlabels.shape)"
      ],
      "metadata": {
        "colab": {
          "base_uri": "https://localhost:8080/"
        },
        "id": "CbKYvdD_cfz1",
        "outputId": "3aad3eb8-7843-45e5-b97e-2b42e1d3bb47"
      },
      "execution_count": 9,
      "outputs": [
        {
          "output_type": "stream",
          "name": "stdout",
          "text": [
            "(10000, 28, 28)\n",
            "(10000,)\n"
          ]
        }
      ]
    },
    {
      "cell_type": "markdown",
      "source": [
        "function that gathers a sample of training data that does not include the desired label"
      ],
      "metadata": {
        "id": "yX3MCbfUx5fI"
      }
    },
    {
      "cell_type": "code",
      "source": [
        "from random import randrange\n",
        "def sampler(data, size, label, labels):\n",
        "  toReturn = [0]*size\n",
        "  i = 0\n",
        "  while i < size:\n",
        "    tryto = randrange(start = 0,stop = 60000)\n",
        "    if tryto not in toReturn and labels[tryto] != label:\n",
        "      toReturn[i] = tryto\n",
        "      i+=1\n",
        "  return toReturn"
      ],
      "metadata": {
        "id": "XZpONZMfutS_"
      },
      "execution_count": 10,
      "outputs": []
    },
    {
      "cell_type": "markdown",
      "source": [
        "Function that gathers a sample of training data of the desired label"
      ],
      "metadata": {
        "id": "iXUjyOhUyECc"
      }
    },
    {
      "cell_type": "code",
      "source": [
        "\n",
        "def sampler2(data, size, label, labels):\n",
        "  toReturn = [0]*size\n",
        "  i = 0\n",
        "  while i < size:\n",
        "    tryto = randrange(start = 0,stop = 60000)\n",
        "    if tryto not in toReturn and labels[tryto] == label:\n",
        "      toReturn[i] = tryto\n",
        "      i+=1\n",
        "  return toReturn"
      ],
      "metadata": {
        "id": "Uh2SXhuby7UF"
      },
      "execution_count": 11,
      "outputs": []
    },
    {
      "cell_type": "markdown",
      "source": [
        "Function that sets the W, N, and B variables for each discriminant function assuming that each covariance matrix is different across labels. HyperQuadratic boundary drawer."
      ],
      "metadata": {
        "id": "msqW3JQByJYO"
      }
    },
    {
      "cell_type": "code",
      "source": [
        "def discrimFunc(coolMatrix, label, labels, num, dmean, umean):\n",
        "  data = coolMatrix.reshape(60000, 784)\n",
        "  newlabels = np.zeros(len(labels))\n",
        "  desiredMatrix = np.zeros((100,784))\n",
        "  undesiredMatrix = np.zeros((100,784))\n",
        "  desiredMatrix = data[sampler2(data, 300, label, labels)]\n",
        "  undesiredMatrix = data[sampler(data, 300, label, labels)]\n",
        "  covMatrixD = np.cov(desiredMatrix.T) + .02*np.identity(784)\n",
        "  covMatrixU = np.cov(undesiredMatrix.T) + .02*np.identity(784)\n",
        "  W = .5*np.linalg.inv(covMatrixU) - .5*np.linalg.inv(covMatrixD)\n",
        "  N = -1*np.matmul(np.linalg.inv(covMatrixU), umean) + np.matmul(np.linalg.inv(covMatrixD), dmean)\n",
        "  print((np.log(np.linalg.det(covMatrixD)), np.log(np.linalg.det(covMatrixU))))\n",
        "  B1 = -.5*(np.matmul(np.matmul(umean.T, np.linalg.inv(covMatrixU)), umean)+ np.log(np.linalg.det(covMatrixU)))+log(num/11000)+.5\n",
        "  B2 = -.5*(np.matmul(np.matmul(dmean.T, np.linalg.inv(covMatrixD)), dmean)+ np.log(np.linalg.det(covMatrixD)))+log(1-num/11000)+.5\n",
        "  B = B2-B1\n",
        "  return(W,N,B)"
      ],
      "metadata": {
        "id": "uSIZA_Ko9Mx_"
      },
      "execution_count": 12,
      "outputs": []
    },
    {
      "cell_type": "markdown",
      "source": [
        "Collects the B,N, and W parameters for each discriminant function and stores them in lists"
      ],
      "metadata": {
        "id": "7e94PlhVy9fu"
      }
    },
    {
      "cell_type": "code",
      "source": [
        "numList = [zeroCount, oneCount, twoCount, threeCount, fourCount, fiveCount, sixCount, sevenCount, eightCount, nineCount]\n",
        "dmeanList = [meanZero, meanOnes, meanTwo, meanThree, meanFour, meanFive, meanSix, meanSeven, meanEight, meanNine]\n",
        "umeanList = [nonMeanZero, nonMeanOne, nonMeanTwo, nonMeanThree, nonMeanFour, nonMeanFive, nonMeanSix, nonMeanSeven, nonMeanEight, nonMeanNine]\n",
        "BList = [0]*10\n",
        "NList = []\n",
        "WList = []\n",
        "for i in range(10):\n",
        "  triple = discrimFunc(data, i, labels, numList[i], dmeanList[i].reshape(784), umeanList[i].reshape(784))\n",
        "  BList[i] = triple[2]\n",
        "  NList.append(triple[1])\n",
        "  WList.append(triple[0])"
      ],
      "metadata": {
        "colab": {
          "base_uri": "https://localhost:8080/"
        },
        "id": "GiS1LthfO_Ve",
        "outputId": "f06f59dd-4b34-4c14-dae4-a4ce94cf4d2b"
      },
      "execution_count": 13,
      "outputs": [
        {
          "output_type": "stream",
          "name": "stdout",
          "text": [
            "(136.4948848086199, 262.3676415181075)\n",
            "(-661.2711066064205, 303.9193244128625)\n",
            "(260.9901439468102, 261.5709541102527)\n",
            "(183.90981410954626, 249.31316566200024)\n",
            "(140.12305284306024, 291.07645534835586)\n",
            "(197.68795556775362, 270.2381326254293)\n",
            "(64.06635090990405, 271.206038031555)\n",
            "(34.92474247823258, 262.09724742330224)\n",
            "(185.17941229771398, 266.4039835159036)\n",
            "(-0.9043231104772813, 273.6659275467386)\n"
          ]
        }
      ]
    },
    {
      "cell_type": "markdown",
      "source": [
        "Using Naive Bayes Decision Making to decide labels (taking the maximum discriminant function result and using that as its decision), and scores the results using (0,1) loss function. This model scores 83% accuracy"
      ],
      "metadata": {
        "id": "OhPSQzRyzMRA"
      }
    },
    {
      "cell_type": "code",
      "source": [
        "testData = testdata.reshape(10000,784)\n",
        "predictLabels = np.zeros(10000)\n",
        "index = 0\n",
        "for i in range(10000):\n",
        "  toTest = testData[i].reshape(784,1)\n",
        "  scores = [0]*10\n",
        "  for j in range(10):\n",
        "    scores[j] = np.matmul(np.matmul(toTest.T,WList[j]),toTest) + np.matmul(NList[j].T,toTest) + BList[j]\n",
        "  winner = max(scores)\n",
        "  prediction = scores.index(winner)\n",
        "  predictLabels[i] = prediction\n",
        "\n",
        "score = 0\n",
        "for i in range(10000):\n",
        "  if int(predictLabels[i]) == testlabels[i]:\n",
        "    score += 1\n",
        "print(score/10000)"
      ],
      "metadata": {
        "colab": {
          "base_uri": "https://localhost:8080/"
        },
        "id": "vOPQIpH0Y1Uu",
        "outputId": "117d6b65-66f9-4f7c-8848-e26a84e08ea5"
      },
      "execution_count": 14,
      "outputs": [
        {
          "output_type": "stream",
          "name": "stdout",
          "text": [
            "0.8348\n"
          ]
        }
      ]
    },
    {
      "cell_type": "markdown",
      "source": [
        "creates the confusion matrix of testing results"
      ],
      "metadata": {
        "id": "Ds2c143mz33S"
      }
    },
    {
      "cell_type": "code",
      "source": [
        "confusion = np.zeros((10,10))\n",
        "for k in range(10000):\n",
        "  confusion[int(predictLabels[k])][testlabels[k]] += 1\n",
        "print(confusion.astype(int))"
      ],
      "metadata": {
        "colab": {
          "base_uri": "https://localhost:8080/"
        },
        "id": "60pfGm6NosEV",
        "outputId": "ff2394bd-b5fd-4496-83e5-b72bd05eed87"
      },
      "execution_count": 15,
      "outputs": [
        {
          "output_type": "stream",
          "name": "stdout",
          "text": [
            "[[ 943    0   24   20    4   19   32    0   16    7]\n",
            " [   2 1107   36   52   23   47   14   18  104   16]\n",
            " [   2    5  832   13   12    3    4   10    9    2]\n",
            " [   6    2   51  784    4   52    0   10   26   10]\n",
            " [   1    6    8    0  781    3    5   25    6   34]\n",
            " [   3    0    2   38    3  624   14    0   17    1]\n",
            " [   3    5   14    2    8   23  880    0    6    0]\n",
            " [   2    0    7    9   20    7    0  805    5   81]\n",
            " [  16   10   49   57   11   87    9   21  749   15]\n",
            " [   2    0    9   35  116   27    0  139   36  843]]\n"
          ]
        }
      ]
    },
    {
      "cell_type": "markdown",
      "source": [
        "Makes a janky heatmap of the confusion matrix"
      ],
      "metadata": {
        "id": "ALM4xzytz-EU"
      }
    },
    {
      "cell_type": "code",
      "source": [
        "imshow(confusion)\n",
        "xlabel(\"Actual Labels\")\n",
        "ylabel('Predicted Labels')"
      ],
      "metadata": {
        "colab": {
          "base_uri": "https://localhost:8080/",
          "height": 296
        },
        "id": "VYhFYXs2sVG_",
        "outputId": "b884e3c1-cf3d-45b4-b8ad-818ee7a851eb"
      },
      "execution_count": 16,
      "outputs": [
        {
          "output_type": "execute_result",
          "data": {
            "text/plain": [
              "Text(0, 0.5, 'Predicted Labels')"
            ]
          },
          "metadata": {},
          "execution_count": 16
        },
        {
          "output_type": "display_data",
          "data": {
            "image/png": "[encoded data removed]",
            "text/plain": [
              "<Figure size 432x288 with 1 Axes>"
            ]
          },
          "metadata": {
            "needs_background": "light"
          }
        }
      ]
    },
    {
      "cell_type": "markdown",
      "source": [
        "While this model doesn't reach the low levels of error shown on the MNIST website there are a couple reasons for this. They likely have significantly better methods of cross validation when training the model, and also likely have much more computing power, which likely allows them to train more images in each sample. More data always leads to improved results, so the fact that the discriminant functions were only trained on 600 images each and reached 83% is a testament to the strength of Naive Bayes classification. Overall I felt quite uncomfortable with my MAP adjustments and I'm sure the academic models shown on the MNISK website have much more fine-tuned adjustments"
      ],
      "metadata": {
        "id": "YCB4DOUY0PKF"
      }
    }
  ]
}